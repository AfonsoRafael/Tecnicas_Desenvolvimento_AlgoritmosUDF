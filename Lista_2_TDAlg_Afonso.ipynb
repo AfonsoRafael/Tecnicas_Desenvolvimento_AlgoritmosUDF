{
  "nbformat": 4,
  "nbformat_minor": 0,
  "metadata": {
    "colab": {
      "provenance": [],
      "include_colab_link": true
    },
    "kernelspec": {
      "name": "python3",
      "display_name": "Python 3"
    },
    "language_info": {
      "name": "python"
    }
  },
  "cells": [
    {
      "cell_type": "markdown",
      "metadata": {
        "id": "view-in-github",
        "colab_type": "text"
      },
      "source": [
        "<a href=\"https://colab.research.google.com/github/AfonsoRafael/Tecnicas_Desenvolvimento_AlgoritmosUDF/blob/main/Lista_2_TDAlg_Afonso.ipynb\" target=\"_parent\"><img src=\"https://colab.research.google.com/assets/colab-badge.svg\" alt=\"Open In Colab\"/></a>"
      ]
    },
    {
      "cell_type": "markdown",
      "source": [
        "Lista 2\n",
        "\n",
        "Nome: Afonso Rafael Evangelista da Silva\n",
        "\n",
        "Turma: Ciências da Computação N1\n",
        "\n",
        "![123.png](data:image/png;base64,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)"
      ],
      "metadata": {
        "id": "N3OctLT8BSJk"
      }
    },
    {
      "cell_type": "code",
      "execution_count": 1,
      "metadata": {
        "colab": {
          "base_uri": "https://localhost:8080/"
        },
        "id": "AZjC_V_bNc46",
        "outputId": "146d3261-be88-4df3-9e05-f3fba9ac9c24"
      },
      "outputs": [
        {
          "name": "stdout",
          "output_type": "stream",
          "text": [
            "Informe um número real: \n",
            "5\n"
          ]
        }
      ],
      "source": [
        "'''1. Elabore um programa que solicite ao usuário um número real e ao final imprima na tela se o\n",
        "número informado é maior que 10 (dez)'''\n",
        "print(\"Informe um número real: \")\n",
        "num=float(input())\n",
        "\n",
        "if num>10:\n",
        "  print(\"O número informado é maior que 10\")"
      ]
    },
    {
      "cell_type": "code",
      "source": [
        "'''2. Escreva um programa que solicite ao usuário um número real e ao final imprima na tela se\n",
        "o número informado é maior ou igual a dez ou menor que 10 (dez)'''\n",
        "print(\"Informe um número real: \")\n",
        "num=float(input())\n",
        "if num>=10:\n",
        "  print(\"O número informado é maior ou igual a 10\")\n",
        "elif num<10:\n",
        "  print(\"O número informado não é maior que 10\")"
      ],
      "metadata": {
        "colab": {
          "base_uri": "https://localhost:8080/"
        },
        "id": "Sf4PPuV5OAtL",
        "outputId": "4f78c182-0eb4-41a3-d470-aa120537568c"
      },
      "execution_count": 2,
      "outputs": [
        {
          "output_type": "stream",
          "name": "stdout",
          "text": [
            "Informe um número real: \n",
            "10\n",
            "O número informado é maior ou igual a 10\n"
          ]
        }
      ]
    },
    {
      "cell_type": "code",
      "source": [
        "'''3. Elabore um algoritmo que solicite ao usuário um número real e ao final imprima na tela se o\n",
        "número informado é maior que dez, se é menor que dez, ou se é igual a dez'''\n",
        "num=float(input(\"Informe um número real: \"))\n",
        "if num>10:\n",
        "  print(\"O número informado é maior que 10\")\n",
        "elif num==10:\n",
        "  print(\"O número informado é igual que 10\")\n",
        "elif num<10:\n",
        "  print(\"O número informado é menor que 10\")"
      ],
      "metadata": {
        "colab": {
          "base_uri": "https://localhost:8080/"
        },
        "id": "WJVgNLZHPmPL",
        "outputId": "5bdd2586-bf03-4ffc-c24b-ff6c26543923"
      },
      "execution_count": 3,
      "outputs": [
        {
          "output_type": "stream",
          "name": "stdout",
          "text": [
            "Informe um número real: 5\n",
            "O número informado é menor que 10\n"
          ]
        }
      ]
    },
    {
      "cell_type": "code",
      "source": [
        "'''4. Elabore um algoritmo que solicite ao usuário um número real e ao final imprima na tela se o\n",
        "número informado é positivo, negativo ou nulo (zero)'''\n",
        "num=float(input(\"Informe um número real: \"))\n",
        "if num>0:\n",
        "  print(\"O número informado é POSITIVO\")\n",
        "elif num==0:\n",
        "  print(\"O número informado é NULO\")\n",
        "elif num<0:\n",
        "  print(\"O número informado é NEGATIVO\")"
      ],
      "metadata": {
        "colab": {
          "base_uri": "https://localhost:8080/"
        },
        "id": "A5fQEyx7QFZ_",
        "outputId": "800d3862-efd7-400c-e2b7-1abd39b6922c"
      },
      "execution_count": 4,
      "outputs": [
        {
          "output_type": "stream",
          "name": "stdout",
          "text": [
            "Informe um número real: 6\n",
            "O número informado é POSITIVO\n"
          ]
        }
      ]
    },
    {
      "cell_type": "code",
      "source": [
        "'''5. Elabore um algoritmo que leia um número inteiro e imprima uma das mensagens: é múltiplo\n",
        "de 3, ou, não é múltiplo de 3'''\n",
        "num=float(input(\"Informe um número: \"))\n",
        "if num%3==0:\n",
        "  print(\"O número informado é múltiplo de 3\")\n",
        "else:\n",
        "  print(\"O número informado não é múltiplo de 3\")\n",
        "\n"
      ],
      "metadata": {
        "colab": {
          "base_uri": "https://localhost:8080/"
        },
        "id": "KICUFPlKQa01",
        "outputId": "bdeeccf0-df91-4e45-ac1d-6d4c3332e01d"
      },
      "execution_count": 5,
      "outputs": [
        {
          "output_type": "stream",
          "name": "stdout",
          "text": [
            "Informe um número: 7\n",
            "O número informado não é múltiplo de 3\n"
          ]
        }
      ]
    },
    {
      "cell_type": "code",
      "source": [
        "'''6. Refazer o exercício anterior, solicitando antes o múltiplo a ser testado'''\n",
        "num=float(input(\"Informe um número: \"))\n",
        "multi=int(input(\"Informe um `múltiplo a ser testado: \"))\n",
        "if num%multi==0:\n",
        "  print(f\"O número informado é múltiplo de {multi}\")\n",
        "else:\n",
        "  print(f\"O número informado não é múltiplo de {multi}\")"
      ],
      "metadata": {
        "colab": {
          "base_uri": "https://localhost:8080/"
        },
        "id": "8NnsO210Q9NH",
        "outputId": "5822c84e-8dc6-41de-aa6f-8a4feade814e"
      },
      "execution_count": 6,
      "outputs": [
        {
          "output_type": "stream",
          "name": "stdout",
          "text": [
            "Informe um número: 8\n",
            "Informe um `múltiplo a ser testado: 5\n",
            "O número informado não é múltiplo de 5\n"
          ]
        }
      ]
    },
    {
      "cell_type": "code",
      "source": [
        "'''7. Desenvolva um algoritmo que classifique um número inteiro fornecido pelo usuário como\n",
        "par ou ímpar'''\n",
        "num=float(input(\"Informe um número: \"))\n",
        "if num%2==0:\n",
        "  print(\"O número informado é PAR\")\n",
        "else:\n",
        "  print(\"O número inforamdo é ÍMPAR\")"
      ],
      "metadata": {
        "colab": {
          "base_uri": "https://localhost:8080/"
        },
        "id": "-CMZ0iBTReDO",
        "outputId": "53d4925c-a87d-427d-b1af-a3d53604cb87"
      },
      "execution_count": 7,
      "outputs": [
        {
          "output_type": "stream",
          "name": "stdout",
          "text": [
            "Informe um número: 10\n",
            "O número informado é PAR\n"
          ]
        }
      ]
    },
    {
      "cell_type": "code",
      "source": [
        "'''8. Elabore um algoritmo que leia um número, e se ele for maior do que 20, imprimir a metade\n",
        "desse número, caso contrário, imprimir o dobro do número'''\n",
        "num=float(input(\"Informe um número: \"))\n",
        "if num>20:\n",
        "  print(f\"A metade do número informado é: {num/2}\")\n",
        "else:\n",
        "  print(f\"O dobro do número informado é: {num*2}\")"
      ],
      "metadata": {
        "colab": {
          "base_uri": "https://localhost:8080/"
        },
        "id": "JLdWxMgzR5es",
        "outputId": "0526d2c7-6cde-43ef-cf0c-a43508bd63bb"
      },
      "execution_count": 8,
      "outputs": [
        {
          "output_type": "stream",
          "name": "stdout",
          "text": [
            "Informe um número: 11\n",
            "O dobro do número informado é: 22.0\n"
          ]
        }
      ]
    },
    {
      "cell_type": "code",
      "source": [
        "'''9. Elabore um algoritmo que leia dois números inteiros e realize a adição; caso o resultado\n",
        "seja maior que 10, imprima o quadrado do resultado, caso contrário, imprima a metade dele'''\n",
        "num1=int(input(\"Informe um número: \"))\n",
        "num2=int(input(\"Informe outro número: \"))\n",
        "soma=num1+num2\n",
        "if soma>10:\n",
        "  print(f\"O quadrado da adição dos dois números é: {soma*soma}\")\n",
        "else:\n",
        "  print(f\"O quadrado do resultado é: {soma/2}\")"
      ],
      "metadata": {
        "colab": {
          "base_uri": "https://localhost:8080/"
        },
        "id": "UvUFAFeBSYn9",
        "outputId": "e660964c-f314-4db6-a35a-3cc9196500ac"
      },
      "execution_count": 9,
      "outputs": [
        {
          "output_type": "stream",
          "name": "stdout",
          "text": [
            "Informe um número: 2\n",
            "Informe outro número: 15\n",
            "O quadrado da adição dos dois números é: 289\n"
          ]
        }
      ]
    },
    {
      "cell_type": "code",
      "source": [
        "'''10. O sistema de avaliação de determinada disciplina é composto por três provas. A primeira\n",
        "prova tem peso 2, a segunda tem peso 3 e a terceira tem peso 5. Considerando que a\n",
        "média para aprovação é 6.0, faça um algoritmo para calcular a média final de um aluno\n",
        "desta disciplina e dizer se o aluno foi aprovado ou não'''\n",
        "nota1=float(input(\"Informe a primeira nota: \"))\n",
        "nota2=float(input(\"Informe a segunda nota: \"))\n",
        "nota3=float(input(\"Informe a terceira nota: \"))\n",
        "\n",
        "media=((nota1*2)+(nota2*3)+(nota3*5))/(2+3+5)\n",
        "\n",
        "if media>=6:\n",
        "  print(f\"O aluno(a) foi APROVADO(A) com média: {media:0.2f}\")\n",
        "else:\n",
        "  print(f\"O aluno(a) foi REPROVADO(A) com média: {media:0.2f}\")"
      ],
      "metadata": {
        "colab": {
          "base_uri": "https://localhost:8080/"
        },
        "id": "zZJHRUcXS8xy",
        "outputId": "0c157fb6-30a4-40e0-8a1a-ac58e006bb47"
      },
      "execution_count": 10,
      "outputs": [
        {
          "output_type": "stream",
          "name": "stdout",
          "text": [
            "Informe a primeira nota: 12\n",
            "Informe a segunda nota: 13\n",
            "Informe a terceira nota: 1\n",
            "O aluno(a) foi APROVADO(A) com média: 6.80\n"
          ]
        }
      ]
    },
    {
      "cell_type": "code",
      "source": [
        "'''11. Elabore um algoritmo que leia o nome e o peso de duas pessoas e imprima o nome da\n",
        "pessoa mais pesada'''\n",
        "nome1=(input(\"Informe o nome da primeira pessoa: \"))\n",
        "peso1=float(input(\"Informe o peso da primeira pessoa: \"))\n",
        "nome2=(input(\"Informe o nome da segunda pessoa: \"))\n",
        "peso2=float(input(\"Informe o peso da segunda pessoa: \"))\n",
        "\n",
        "if peso1>peso2:\n",
        "  print(f\"A pessoa mais pesada é {nome1}\")\n",
        "elif peso2>peso1:\n",
        "  print(f\"A pessoa mais pesada é {nome2}\")\n",
        "else:\n",
        "  print(\"As pessoas tem o mesmo peso.\")"
      ],
      "metadata": {
        "colab": {
          "base_uri": "https://localhost:8080/"
        },
        "id": "E6lYcudAUJe_",
        "outputId": "bcf188dd-8fa9-4b1b-96ec-ad13985704df"
      },
      "execution_count": 11,
      "outputs": [
        {
          "output_type": "stream",
          "name": "stdout",
          "text": [
            "Informe o nome da primeira pessoa: afonso\n",
            "Informe o peso da primeira pessoa: 80\n",
            "Informe o nome da segunda pessoa: irineu\n",
            "Informe o peso da segunda pessoa: 70\n",
            "A pessoa mais pesada é afonso\n"
          ]
        }
      ]
    },
    {
      "cell_type": "code",
      "source": [
        "'''12. Elabore um algoritmo que indique se um número digitado está compreendido entre 20 e\n",
        "90, ou não'''\n",
        "num=float(input(\"Informe um número: \"))\n",
        "\n",
        "if num>20 and num<90:\n",
        "  print(f\"O número {num:0.1f} está entre 20 e 90\")\n",
        "else:\n",
        "  print(f\"O número {num:0.1f} não está entre 20 e 90\")\n"
      ],
      "metadata": {
        "colab": {
          "base_uri": "https://localhost:8080/"
        },
        "id": "dE426v0NZCVn",
        "outputId": "b575b958-2c62-4bbb-ad40-666ecc23fb85"
      },
      "execution_count": 12,
      "outputs": [
        {
          "output_type": "stream",
          "name": "stdout",
          "text": [
            "Informe um número: 1\n",
            "O número 1.0 não está entre 20 e 90\n"
          ]
        }
      ]
    },
    {
      "cell_type": "code",
      "source": [
        "'''13. Elabore um algoritmo que leia dois números e imprima qual é maior, qual é menor, ou se\n",
        "são iguais'''\n",
        "num1=float(input(\"informe um número: \"))\n",
        "num2=float(input(\"informe outro número: \"))\n",
        "\n",
        "if num1>num2:\n",
        "  print(f\"O número {num1:0.1f} é maior que o número {num2:0.1f}\")\n",
        "elif num2>num1:\n",
        "  print(f\"O número {num2:0.1f} é maior que o número {num1:0.1f}\")\n",
        "elif num1==num2:\n",
        "  print(f\"O número {num1:0.1f} é igual a {num2:0.1f}\")"
      ],
      "metadata": {
        "colab": {
          "base_uri": "https://localhost:8080/"
        },
        "id": "0Yn1dbsGaKkI",
        "outputId": "10ce3a2f-3bb6-4177-cca7-ef343a35be5a"
      },
      "execution_count": 13,
      "outputs": [
        {
          "output_type": "stream",
          "name": "stdout",
          "text": [
            "informe um número: 1\n",
            "informe outro número: 2\n",
            "O número 2.0 é maior que o número 1.0\n"
          ]
        }
      ]
    },
    {
      "cell_type": "code",
      "source": [
        "'''14. Escreva um programa em linguagem C que solicite ao usuário a média para aprovação\n",
        "em um curso e em seguida solicite ao usuário o nome, sexo e as 03 notas do aluno e ao\n",
        "final imprima a frase: \"O aluno XXXXX foi aprovado com media YY\" considerando o gênero\n",
        "do(a) aluno(a) e se foi aprovado(a) ou reprovado(a)'''\n",
        "mediaAprov=float(input(\"Informe a média para aprovação: \"))\n",
        "nome=str(input(\"Informe o seu nome: \"))\n",
        "sexo=str(input(\"Informe seu sexo: \"))\n",
        "nota1=float(input(\"Informe a primeira nota: \"))\n",
        "nota2=float(input(\"Informe a segunda nota: \"))\n",
        "nota3=float(input(\"Informe a terceira nota: \"))\n",
        "\n",
        "sexoM=[\"MASCULINO\",\"HOMEM\",\"M\"]\n",
        "sexoF=[\"FEMININO\",\"MULHER\",\"F\"]\n",
        "\n",
        "media=(nota1+nota2+nota3)/3\n",
        "\n",
        "if sexo.upper() in sexoM and media>=mediaAprov:\n",
        "    print(f\"O aluno {nome} foi APROVADO com média {media:0.1f}\")\n",
        "elif sexo.upper() in sexoM and media<mediaAprov:\n",
        "    print(f\"O aluno {nome} foi REPROVADO com média {media:0.1f}\")\n",
        "elif sexo.upper() in sexoF and media>=mediaAprov:\n",
        "    print(f\"A aluna {nome} foi APROVADA com média {media:0.1f}\")\n",
        "elif sexo.upper() in sexoF and media<mediaAprov:\n",
        "    print(f\"A aluna {nome} foi REPROVADA com média {media:0.1f}\")\n",
        "else:\n",
        "  print(\"Dados inválidos\")\n"
      ],
      "metadata": {
        "colab": {
          "base_uri": "https://localhost:8080/"
        },
        "id": "UVQHVPx5bire",
        "outputId": "07fc8148-ad19-4c39-8b4b-b00e5dcb1ec5"
      },
      "execution_count": 14,
      "outputs": [
        {
          "output_type": "stream",
          "name": "stdout",
          "text": [
            "Informe a média para aprovação: 6\n",
            "Informe o seu nome: afonso\n",
            "Informe seu sexo: m\n",
            "Informe a primeira nota: 7\n",
            "Informe a segunda nota: 6\n",
            "Informe a terceira nota: 7\n",
            "O aluno afonso foi APROVADO com média 6.7\n"
          ]
        }
      ]
    }
  ]
}