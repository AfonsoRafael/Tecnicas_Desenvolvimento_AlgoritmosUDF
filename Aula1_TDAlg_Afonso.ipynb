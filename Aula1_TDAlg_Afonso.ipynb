{
  "nbformat": 4,
  "nbformat_minor": 0,
  "metadata": {
    "colab": {
      "provenance": [],
      "include_colab_link": true
    },
    "kernelspec": {
      "name": "python3",
      "display_name": "Python 3"
    },
    "language_info": {
      "name": "python"
    }
  },
  "cells": [
    {
      "cell_type": "markdown",
      "metadata": {
        "id": "view-in-github",
        "colab_type": "text"
      },
      "source": [
        "<a href=\"https://colab.research.google.com/github/AfonsoRafael/Tecnicas_Desenvolvimento_AlgoritmosUDF/blob/main/Aula1_TDAlg_Afonso.ipynb\" target=\"_parent\"><img src=\"https://colab.research.google.com/assets/colab-badge.svg\" alt=\"Open In Colab\"/></a>"
      ]
    },
    {
      "cell_type": "markdown",
      "source": [
        "Nome: Afonso Rafael Evangelista da Silva\n",
        "\n",
        "Turma: Ciências da Computação N1\n",
        "\n",
        "![123.png](data:image/png;base64,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)"
      ],
      "metadata": {
        "id": "uGCy6nPgQK5-"
      }
    },
    {
      "cell_type": "code",
      "source": [
        "#1. Escreva um programa que apresente na tela a frase: \"Meu primeiro programa!!!\"\n",
        "\n",
        "print(\"Meu primeiro programa\")"
      ],
      "metadata": {
        "colab": {
          "base_uri": "https://localhost:8080/"
        },
        "id": "3TzFXRwzRmDY",
        "outputId": "be5d2f6b-f596-4dda-82a0-4b8f812e7c06"
      },
      "execution_count": 1,
      "outputs": [
        {
          "output_type": "stream",
          "name": "stdout",
          "text": [
            "Meu primeiro programa\n"
          ]
        }
      ]
    },
    {
      "cell_type": "code",
      "source": [
        "'''2. Escreva um programa que solicite ao usuário um número inteiro e ao final apresente na tela\n",
        "o número informado pelo usuário do programa'''\n",
        "\n",
        "print(\"Informe um número: \")\n",
        "num = int(input())\n",
        "print(\"O número informado foi: \" + str(num))"
      ],
      "metadata": {
        "colab": {
          "base_uri": "https://localhost:8080/"
        },
        "id": "LWQ7wRica96z",
        "outputId": "bf4ca1a7-ee9e-4306-eeea-d41e2c6aba1a"
      },
      "execution_count": null,
      "outputs": [
        {
          "output_type": "stream",
          "name": "stdout",
          "text": [
            "Informe um número: \n"
          ]
        }
      ]
    },
    {
      "cell_type": "code",
      "source": [
        "'''3. Escreva um programa que solicite ao usuário um número inteiro e ao final apresente na tela\n",
        "o número informado da seguinte forma: \"Foi informado o valor: X\"'''\n",
        "print(\"Informe um número: \")\n",
        "num=int(input())\n",
        "print(\"Foi informado o valor: \",num)"
      ],
      "metadata": {
        "id": "wjSPwfvUcuNl"
      },
      "execution_count": null,
      "outputs": []
    },
    {
      "cell_type": "code",
      "source": [
        "'''4. Escreva um programa que solicite ao usuário dois números inteiros e ao final apresente na\n",
        "tela os dois números informados da seguinte forma: \"Voce informou os numeros X e Y\"'''\n",
        "print(\"Informe um número: \")\n",
        "num1=input()\n",
        "print(\"Informe outro número: \")\n",
        "num2=input()\n",
        "print(\"Você informou os números \",num1,\" e \",num2)"
      ],
      "metadata": {
        "id": "MRgUWw8C1UHd"
      },
      "execution_count": null,
      "outputs": []
    },
    {
      "cell_type": "code",
      "source": [
        "'''5. Escreva um programa que solicite ao usuário um número real e ao final apresente na tela o\n",
        "número informado formatado com duas casas decimais da seguinte forma: \"Voce informou\n",
        "o numero X.YY'''\n",
        "print(\"Informe um número real: \")\n",
        "num = float(input())\n",
        "print(f\"Você informou o número: {num:.2f}\")"
      ],
      "metadata": {
        "id": "qIsYSxXl15n4"
      },
      "execution_count": null,
      "outputs": []
    },
    {
      "cell_type": "code",
      "source": [
        "'''6. Escreva um programa que solicite ao usuário a temperatura em graus Celsius e ao final\n",
        "apresente a temperatura correspondente em graus Farenheit. F = Celsius * 1.8 + 32'''\n",
        "print(\"Informe a temperatura em graus Celsius:\")\n",
        "celsius=float(input())\n",
        "farenheit=celsius*1.8+32\n",
        "print(f\"A temperatura em graus Farenheit é: {farenheit:.2f}\")"
      ],
      "metadata": {
        "id": "4oAMPF0A27iA"
      },
      "execution_count": null,
      "outputs": []
    },
    {
      "cell_type": "code",
      "source": [
        "'''7. Escreva um programa que solicite ao usuário um número inteiro e um número real e ao final\n",
        "apresente na tela os dois números informados formatando com duas casas decimais\n",
        "somente o número real da seguinte forma: \"Voce informou os numeros N e X.YY\"'''\n",
        "print(\"Informe um número inteiro: \")\n",
        "numInt=int(input())\n",
        "print(\"Informe um número real: \")\n",
        "numReal=float(input())\n",
        "print(f\"Você informou os números {numInt} e {numReal:.2f}\")\n"
      ],
      "metadata": {
        "id": "QKB3P5ma3ru4"
      },
      "execution_count": null,
      "outputs": []
    },
    {
      "cell_type": "code",
      "source": [
        "'''8. Escreva um programa que solicite ao usuário a primeira letra de seu nome e ao final\n",
        "apresente na tela a letra informada pelo usuário da seguinte forma: \"Voce digitou w\"'''\n",
        "print(\"Informe a primeira letra do seu nome: \")\n",
        "letra=str(input())\n",
        "print(f\"Você digitou: {letra}\")"
      ],
      "metadata": {
        "id": "UfYAbtRB4gJN"
      },
      "execution_count": null,
      "outputs": []
    },
    {
      "cell_type": "code",
      "source": [
        "'''9. Escreva um programa que solicite ao usuário o nome de sua cor preferida e ao final\n",
        "apresente na tela a cor informada pelo usuário da seguinte forma: \"Voce gosta da cor AAA\"'''\n",
        "print(\"Informe a sua cor preferida: \")\n",
        "cor=str(input())\n",
        "print(f\"Sua cor preferida é: {cor}\")"
      ],
      "metadata": {
        "id": "ym4dwxj95Dbg"
      },
      "execution_count": null,
      "outputs": []
    },
    {
      "cell_type": "code",
      "source": [
        "'''10. Escreva um programa que solicite ao usuário o nome de uma verdura e uma fruta de sua\n",
        "preferencia e ao final apresente na tela as informações digitadas pelo usuário da seguinte\n",
        "forma: \"Voce gosta de AAAAAAA e BBBBBBB\"'''\n",
        "print(\"Informe o nome de uma verdura: \")\n",
        "verdura=str(input())\n",
        "print(\"Informe o nome de uma fruta: \")\n",
        "fruta=str(input())\n",
        "print(f\"Você gosta de {verdura} e {fruta}\")\n"
      ],
      "metadata": {
        "id": "JNPUa5Af5bhA"
      },
      "execution_count": null,
      "outputs": []
    },
    {
      "cell_type": "code",
      "source": [
        "'''11. Elabore um algoritmo que solicite ao usuário um número real e ao final imprima na tela o\n",
        "numero informado e na linha de baixo o dobro deste número da seguinte forma:\n",
        "Numero -> X\n",
        "Dobro deste numero -> Y'''\n",
        "print(\"informe um número real: \")\n",
        "num=float(input())\n",
        "dobro=num*2\n",
        "print(f\"Número -> {num:.2f}\")\n",
        "print(f\"Dobro deste número -> {dobro:.2f}\")\n"
      ],
      "metadata": {
        "id": "v0mS6oAi6BMx"
      },
      "execution_count": null,
      "outputs": []
    },
    {
      "cell_type": "code",
      "source": [
        "'''12. Reescrever o programa anterior apresentando o quadrado e o cubo do número informado'''\n",
        "print(\"informe um número real: \")\n",
        "num=float(input())\n",
        "dobro=num*2\n",
        "quadrado=num**2\n",
        "cubo=num**3\n",
        "print(f\"Número -> {num:.2f}\")\n",
        "print(f\"Dobro deste número -> {dobro:.2f}\")\n",
        "print(f\"Quadrado deste número -> {quadrado:.2f}\")\n",
        "print(f\"Cubo deste número -> {cubo:.2f}\")"
      ],
      "metadata": {
        "id": "cJQZ0RsR6xY2"
      },
      "execution_count": null,
      "outputs": []
    },
    {
      "cell_type": "code",
      "source": [
        "'''13. Escreva um programa que solicite ao usuário dois números inteiros e ao final apresente\n",
        "na tela a soma dos dois números informados da seguinte forma: \"O numeros N e X\n",
        "somados correspondem a Y\"'''\n",
        "print(\"Informe um número inteiro: \")\n",
        "num1=int(input())\n",
        "print(\"Informe outro número inteiro: \")\n",
        "num2=int(input())\n",
        "soma=num1+num2\n",
        "print(f\"Os números {num1} e {num2} somados correspondem a {soma}\")\n"
      ],
      "metadata": {
        "id": "h7mGlEhk7TSA"
      },
      "execution_count": null,
      "outputs": []
    },
    {
      "cell_type": "code",
      "source": [
        "'''14. Escreva um programa que solicite ao usuário dois números reais e ao final apresente na\n",
        "tela o produto dos dois números informados da seguinte forma: \"O produto dos numeros N\n",
        "e X corresponde a Y\"'''\n",
        "print(\"Informe um número real: \")\n",
        "num1=float(input())\n",
        "print(\"Informe outro número real: \")\n",
        "num2=float(input())\n",
        "produto=num1*num2\n",
        "print(f\"O produto dos números {num1} e {num2} corresponde a {produto}\")"
      ],
      "metadata": {
        "id": "Ty55ibGF71hx"
      },
      "execution_count": null,
      "outputs": []
    },
    {
      "cell_type": "code",
      "source": [
        "'''15. Refazer o programa 14 realizando as quatro operações aritméticas básicas'''\n",
        "print(\"Informe um número real: \")\n",
        "num1=float(input())\n",
        "print(\"Informe outro número real: \")\n",
        "num2=float(input())\n",
        "soma=num1+num2\n",
        "sub=num1-num2\n",
        "multi=num1*num2\n",
        "div=num1/num2\n",
        "print(f\"A soma dos números {num1} e {num2} corresponde a {soma}\")\n",
        "print(f\"A subtração dos números {num1} e {num2} corresponde a {sub}\")\n",
        "print(f\"A multiplicação dos números {num1} e {num2} corresponde a {multi}\")\n",
        "print(f\"A divisão dos números {num1} e {num2} corresponde a {div}\")"
      ],
      "metadata": {
        "id": "6zJJEYpW8Z37"
      },
      "execution_count": null,
      "outputs": []
    },
    {
      "cell_type": "code",
      "source": [
        "'''16. Escreva um programa que solicite o valor fixo do salário de um vendedor, o total vendido\n",
        "no mês e o percentual de comissão do vendedor. Ao final apresentar o salário bruto.'''\n",
        "print(\"Informe o salário fixo: \")\n",
        "salarioFixo=float(input())\n",
        "print(\"Informe o total vendido: \")\n",
        "totalVendido=float(input())\n",
        "print(\"Informe o percentual de comissão: \")\n",
        "percent=float(input())\n",
        "salarioBruto=salarioFixo+(totalVendido*percent/100)\n",
        "print(f\"O salário bruto é: {salarioBruto:.2f}\")"
      ],
      "metadata": {
        "id": "kRRRA3su9biX"
      },
      "execution_count": null,
      "outputs": []
    }
  ]
}